{
 "cells": [
  {
   "cell_type": "code",
   "execution_count": 1,
   "id": "c5a08bf8",
   "metadata": {},
   "outputs": [],
   "source": [
    "import numpy as np\n",
    "import pandas as pd \n",
    "from bs4 import BeautifulSoup\n",
    "import re"
   ]
  },
  {
   "cell_type": "code",
   "execution_count": 2,
   "id": "3371edf2",
   "metadata": {},
   "outputs": [],
   "source": [
    "df = pd.read_csv('/Users/anthonyvincent/Downloads/iphone14-query-tweets.csv.zip')"
   ]
  },
  {
   "cell_type": "code",
   "execution_count": 3,
   "id": "3998d4bf",
   "metadata": {},
   "outputs": [
    {
     "data": {
      "text/html": [
       "<div>\n",
       "<style scoped>\n",
       "    .dataframe tbody tr th:only-of-type {\n",
       "        vertical-align: middle;\n",
       "    }\n",
       "\n",
       "    .dataframe tbody tr th {\n",
       "        vertical-align: top;\n",
       "    }\n",
       "\n",
       "    .dataframe thead th {\n",
       "        text-align: right;\n",
       "    }\n",
       "</style>\n",
       "<table border=\"1\" class=\"dataframe\">\n",
       "  <thead>\n",
       "    <tr style=\"text-align: right;\">\n",
       "      <th></th>\n",
       "      <th>date_time</th>\n",
       "      <th>username</th>\n",
       "      <th>user_location</th>\n",
       "      <th>user_description</th>\n",
       "      <th>verified</th>\n",
       "      <th>followers_count</th>\n",
       "      <th>following_count</th>\n",
       "      <th>tweet_like_count</th>\n",
       "      <th>tweet_retweet_count</th>\n",
       "      <th>tweet_reply_count</th>\n",
       "      <th>source</th>\n",
       "      <th>tweet_text</th>\n",
       "    </tr>\n",
       "  </thead>\n",
       "  <tbody>\n",
       "    <tr>\n",
       "      <th>0</th>\n",
       "      <td>2022-09-08 22:49:29+00:00</td>\n",
       "      <td>TheAppleGang101</td>\n",
       "      <td>NaN</td>\n",
       "      <td>A new account dedicated to all of the latest l...</td>\n",
       "      <td>False</td>\n",
       "      <td>10</td>\n",
       "      <td>28</td>\n",
       "      <td>0</td>\n",
       "      <td>0</td>\n",
       "      <td>0</td>\n",
       "      <td>&lt;a href=\"http://twitter.com/#!/download/ipad\" ...</td>\n",
       "      <td>iPhone SE 3 gets more expensive in the UK afte...</td>\n",
       "    </tr>\n",
       "    <tr>\n",
       "      <th>1</th>\n",
       "      <td>2022-09-08 22:49:27+00:00</td>\n",
       "      <td>TheJessicats</td>\n",
       "      <td>1999</td>\n",
       "      <td>Tweet like nobody’s reading • standup comedian...</td>\n",
       "      <td>False</td>\n",
       "      <td>1642</td>\n",
       "      <td>1444</td>\n",
       "      <td>0</td>\n",
       "      <td>0</td>\n",
       "      <td>0</td>\n",
       "      <td>&lt;a href=\"http://twitter.com/download/iphone\" r...</td>\n",
       "      <td>@Travon I hope it happens before my iPhone 14 ...</td>\n",
       "    </tr>\n",
       "    <tr>\n",
       "      <th>2</th>\n",
       "      <td>2022-09-08 22:49:16+00:00</td>\n",
       "      <td>itschefnotjeff</td>\n",
       "      <td>📌 mom's basement</td>\n",
       "      <td>👨🏽‍💻💳🎫✈️</td>\n",
       "      <td>False</td>\n",
       "      <td>77</td>\n",
       "      <td>87</td>\n",
       "      <td>0</td>\n",
       "      <td>0</td>\n",
       "      <td>0</td>\n",
       "      <td>&lt;a href=\"http://twitter.com/download/android\" ...</td>\n",
       "      <td>Nah iphone 14 upgrade just not it, change my m...</td>\n",
       "    </tr>\n",
       "    <tr>\n",
       "      <th>3</th>\n",
       "      <td>2022-09-08 22:49:09+00:00</td>\n",
       "      <td>HalfRonin</td>\n",
       "      <td>Between the darkness and light</td>\n",
       "      <td>Preferring to be the dumbest person in the roo...</td>\n",
       "      <td>False</td>\n",
       "      <td>549</td>\n",
       "      <td>717</td>\n",
       "      <td>0</td>\n",
       "      <td>0</td>\n",
       "      <td>0</td>\n",
       "      <td>&lt;a href=\"http://twitter.com/download/iphone\" r...</td>\n",
       "      <td>To the shock of absolutely no one: \\n\\nApple: ...</td>\n",
       "    </tr>\n",
       "    <tr>\n",
       "      <th>4</th>\n",
       "      <td>2022-09-08 22:49:09+00:00</td>\n",
       "      <td>Deejayrayman</td>\n",
       "      <td>Texas</td>\n",
       "      <td>Father of 3. Follower of Christ. Lover of all ...</td>\n",
       "      <td>False</td>\n",
       "      <td>48</td>\n",
       "      <td>153</td>\n",
       "      <td>0</td>\n",
       "      <td>0</td>\n",
       "      <td>0</td>\n",
       "      <td>&lt;a href=\"http://twitter.com/download/iphone\" r...</td>\n",
       "      <td>@TMobile @TMobileHelp will you be able to orde...</td>\n",
       "    </tr>\n",
       "  </tbody>\n",
       "</table>\n",
       "</div>"
      ],
      "text/plain": [
       "                   date_time         username                   user_location  \\\n",
       "0  2022-09-08 22:49:29+00:00  TheAppleGang101                             NaN   \n",
       "1  2022-09-08 22:49:27+00:00     TheJessicats                            1999   \n",
       "2  2022-09-08 22:49:16+00:00   itschefnotjeff               📌 mom's basement    \n",
       "3  2022-09-08 22:49:09+00:00        HalfRonin  Between the darkness and light   \n",
       "4  2022-09-08 22:49:09+00:00     Deejayrayman                           Texas   \n",
       "\n",
       "                                    user_description  verified  \\\n",
       "0  A new account dedicated to all of the latest l...     False   \n",
       "1  Tweet like nobody’s reading • standup comedian...     False   \n",
       "2                                           👨🏽‍💻💳🎫✈️     False   \n",
       "3  Preferring to be the dumbest person in the roo...     False   \n",
       "4  Father of 3. Follower of Christ. Lover of all ...     False   \n",
       "\n",
       "   followers_count  following_count  tweet_like_count  tweet_retweet_count  \\\n",
       "0               10               28                 0                    0   \n",
       "1             1642             1444                 0                    0   \n",
       "2               77               87                 0                    0   \n",
       "3              549              717                 0                    0   \n",
       "4               48              153                 0                    0   \n",
       "\n",
       "   tweet_reply_count                                             source  \\\n",
       "0                  0  <a href=\"http://twitter.com/#!/download/ipad\" ...   \n",
       "1                  0  <a href=\"http://twitter.com/download/iphone\" r...   \n",
       "2                  0  <a href=\"http://twitter.com/download/android\" ...   \n",
       "3                  0  <a href=\"http://twitter.com/download/iphone\" r...   \n",
       "4                  0  <a href=\"http://twitter.com/download/iphone\" r...   \n",
       "\n",
       "                                          tweet_text  \n",
       "0  iPhone SE 3 gets more expensive in the UK afte...  \n",
       "1  @Travon I hope it happens before my iPhone 14 ...  \n",
       "2  Nah iphone 14 upgrade just not it, change my m...  \n",
       "3  To the shock of absolutely no one: \\n\\nApple: ...  \n",
       "4  @TMobile @TMobileHelp will you be able to orde...  "
      ]
     },
     "execution_count": 3,
     "metadata": {},
     "output_type": "execute_result"
    }
   ],
   "source": [
    "df.head() #showing the data"
   ]
  },
  {
   "cell_type": "code",
   "execution_count": 4,
   "id": "d551d9a6",
   "metadata": {},
   "outputs": [
    {
     "name": "stdout",
     "output_type": "stream",
     "text": [
      "<class 'pandas.core.frame.DataFrame'>\n",
      "RangeIndex: 144245 entries, 0 to 144244\n",
      "Data columns (total 12 columns):\n",
      " #   Column               Non-Null Count   Dtype \n",
      "---  ------               --------------   ----- \n",
      " 0   date_time            144245 non-null  object\n",
      " 1   username             144245 non-null  object\n",
      " 2   user_location        97925 non-null   object\n",
      " 3   user_description     127678 non-null  object\n",
      " 4   verified             144245 non-null  bool  \n",
      " 5   followers_count      144245 non-null  int64 \n",
      " 6   following_count      144245 non-null  int64 \n",
      " 7   tweet_like_count     144245 non-null  int64 \n",
      " 8   tweet_retweet_count  144245 non-null  int64 \n",
      " 9   tweet_reply_count    144245 non-null  int64 \n",
      " 10  source               144245 non-null  object\n",
      " 11  tweet_text           144245 non-null  object\n",
      "dtypes: bool(1), int64(5), object(6)\n",
      "memory usage: 12.2+ MB\n"
     ]
    }
   ],
   "source": [
    "df.info() #display info about pandas data frame"
   ]
  },
  {
   "cell_type": "code",
   "execution_count": 5,
   "id": "ae187bb5",
   "metadata": {},
   "outputs": [
    {
     "data": {
      "text/plain": [
       "0         iPhone SE 3 gets more expensive in the UK afte...\n",
       "1         @Travon I hope it happens before my iPhone 14 ...\n",
       "2         Nah iphone 14 upgrade just not it, change my m...\n",
       "3         To the shock of absolutely no one: \\n\\nApple: ...\n",
       "4         @TMobile @TMobileHelp will you be able to orde...\n",
       "                                ...                        \n",
       "144240    iPhone 14 ENTIRE Lineup Early Look - https://t...\n",
       "144241    iPhone 14 strength will battle weak consumer s...\n",
       "144242    @robertrosenfeld My Pixel 4's battery, never t...\n",
       "144243    i don’t understand people who buy every new ip...\n",
       "144244    iPhone 14 Series Could Cost $100 Higher Than i...\n",
       "Name: tweet_text, Length: 144245, dtype: object"
      ]
     },
     "execution_count": 5,
     "metadata": {},
     "output_type": "execute_result"
    }
   ],
   "source": [
    "df.tweet_text #access the column name tweet_text and display info of pandas datafram"
   ]
  },
  {
   "cell_type": "code",
   "execution_count": 6,
   "id": "71ee2341",
   "metadata": {},
   "outputs": [
    {
     "data": {
      "text/plain": [
       "tweet_text          ▫️ According to recent reports, Apple may anno...\n",
       "clean_tweet_text    ▫️ According to recent reports, Apple may anno...\n",
       "Name: 94807, dtype: object"
      ]
     },
     "execution_count": 6,
     "metadata": {},
     "output_type": "execute_result"
    }
   ],
   "source": [
    "df[\"clean_tweet_text\"] = df[\"tweet_text\"].replace(r'http\\S+', '', regex=True).replace(r'www\\S+', '', regex=True)\n",
    "df[[\"tweet_text\",\"clean_tweet_text\"]].iloc[94807]\n",
    "# creates new column, use replacve to generate new column values, cleans up tweet_text column data"
   ]
  },
  {
   "cell_type": "code",
   "execution_count": 7,
   "id": "9f78b6c5",
   "metadata": {},
   "outputs": [
    {
     "data": {
      "text/html": [
       "<div>\n",
       "<style scoped>\n",
       "    .dataframe tbody tr th:only-of-type {\n",
       "        vertical-align: middle;\n",
       "    }\n",
       "\n",
       "    .dataframe tbody tr th {\n",
       "        vertical-align: top;\n",
       "    }\n",
       "\n",
       "    .dataframe thead th {\n",
       "        text-align: right;\n",
       "    }\n",
       "</style>\n",
       "<table border=\"1\" class=\"dataframe\">\n",
       "  <thead>\n",
       "    <tr style=\"text-align: right;\">\n",
       "      <th></th>\n",
       "      <th>date_time</th>\n",
       "      <th>username</th>\n",
       "      <th>user_location</th>\n",
       "      <th>user_description</th>\n",
       "      <th>verified</th>\n",
       "      <th>followers_count</th>\n",
       "      <th>following_count</th>\n",
       "      <th>tweet_like_count</th>\n",
       "      <th>tweet_retweet_count</th>\n",
       "      <th>tweet_reply_count</th>\n",
       "      <th>source</th>\n",
       "      <th>tweet_text</th>\n",
       "      <th>clean_tweet_text</th>\n",
       "    </tr>\n",
       "  </thead>\n",
       "  <tbody>\n",
       "    <tr>\n",
       "      <th>0</th>\n",
       "      <td>2022-09-08 22:49:29+00:00</td>\n",
       "      <td>TheAppleGang101</td>\n",
       "      <td>NaN</td>\n",
       "      <td>A new account dedicated to all of the latest l...</td>\n",
       "      <td>False</td>\n",
       "      <td>10</td>\n",
       "      <td>28</td>\n",
       "      <td>0</td>\n",
       "      <td>0</td>\n",
       "      <td>0</td>\n",
       "      <td>&lt;a href=\"http://twitter.com/#!/download/ipad\" ...</td>\n",
       "      <td>iPhone SE 3 gets more expensive in the UK afte...</td>\n",
       "      <td>iPhone SE 3 gets more expensive in the UK afte...</td>\n",
       "    </tr>\n",
       "    <tr>\n",
       "      <th>1</th>\n",
       "      <td>2022-09-08 22:49:27+00:00</td>\n",
       "      <td>TheJessicats</td>\n",
       "      <td>1999</td>\n",
       "      <td>Tweet like nobody’s reading • standup comedian...</td>\n",
       "      <td>False</td>\n",
       "      <td>1642</td>\n",
       "      <td>1444</td>\n",
       "      <td>0</td>\n",
       "      <td>0</td>\n",
       "      <td>0</td>\n",
       "      <td>&lt;a href=\"http://twitter.com/download/iphone\" r...</td>\n",
       "      <td>@Travon I hope it happens before my iPhone 14 ...</td>\n",
       "      <td>@Travon I hope it happens before my iPhone 14 ...</td>\n",
       "    </tr>\n",
       "    <tr>\n",
       "      <th>2</th>\n",
       "      <td>2022-09-08 22:49:16+00:00</td>\n",
       "      <td>itschefnotjeff</td>\n",
       "      <td>📌 mom's basement</td>\n",
       "      <td>👨🏽‍💻💳🎫✈️</td>\n",
       "      <td>False</td>\n",
       "      <td>77</td>\n",
       "      <td>87</td>\n",
       "      <td>0</td>\n",
       "      <td>0</td>\n",
       "      <td>0</td>\n",
       "      <td>&lt;a href=\"http://twitter.com/download/android\" ...</td>\n",
       "      <td>Nah iphone 14 upgrade just not it, change my m...</td>\n",
       "      <td>Nah iphone 14 upgrade just not it, change my m...</td>\n",
       "    </tr>\n",
       "    <tr>\n",
       "      <th>3</th>\n",
       "      <td>2022-09-08 22:49:09+00:00</td>\n",
       "      <td>HalfRonin</td>\n",
       "      <td>Between the darkness and light</td>\n",
       "      <td>Preferring to be the dumbest person in the roo...</td>\n",
       "      <td>False</td>\n",
       "      <td>549</td>\n",
       "      <td>717</td>\n",
       "      <td>0</td>\n",
       "      <td>0</td>\n",
       "      <td>0</td>\n",
       "      <td>&lt;a href=\"http://twitter.com/download/iphone\" r...</td>\n",
       "      <td>To the shock of absolutely no one: \\n\\nApple: ...</td>\n",
       "      <td>To the shock of absolutely no one: \\n\\nApple: ...</td>\n",
       "    </tr>\n",
       "    <tr>\n",
       "      <th>4</th>\n",
       "      <td>2022-09-08 22:49:09+00:00</td>\n",
       "      <td>Deejayrayman</td>\n",
       "      <td>Texas</td>\n",
       "      <td>Father of 3. Follower of Christ. Lover of all ...</td>\n",
       "      <td>False</td>\n",
       "      <td>48</td>\n",
       "      <td>153</td>\n",
       "      <td>0</td>\n",
       "      <td>0</td>\n",
       "      <td>0</td>\n",
       "      <td>&lt;a href=\"http://twitter.com/download/iphone\" r...</td>\n",
       "      <td>@TMobile @TMobileHelp will you be able to orde...</td>\n",
       "      <td>@TMobile @TMobileHelp will you be able to orde...</td>\n",
       "    </tr>\n",
       "  </tbody>\n",
       "</table>\n",
       "</div>"
      ],
      "text/plain": [
       "                   date_time         username                   user_location  \\\n",
       "0  2022-09-08 22:49:29+00:00  TheAppleGang101                             NaN   \n",
       "1  2022-09-08 22:49:27+00:00     TheJessicats                            1999   \n",
       "2  2022-09-08 22:49:16+00:00   itschefnotjeff               📌 mom's basement    \n",
       "3  2022-09-08 22:49:09+00:00        HalfRonin  Between the darkness and light   \n",
       "4  2022-09-08 22:49:09+00:00     Deejayrayman                           Texas   \n",
       "\n",
       "                                    user_description  verified  \\\n",
       "0  A new account dedicated to all of the latest l...     False   \n",
       "1  Tweet like nobody’s reading • standup comedian...     False   \n",
       "2                                           👨🏽‍💻💳🎫✈️     False   \n",
       "3  Preferring to be the dumbest person in the roo...     False   \n",
       "4  Father of 3. Follower of Christ. Lover of all ...     False   \n",
       "\n",
       "   followers_count  following_count  tweet_like_count  tweet_retweet_count  \\\n",
       "0               10               28                 0                    0   \n",
       "1             1642             1444                 0                    0   \n",
       "2               77               87                 0                    0   \n",
       "3              549              717                 0                    0   \n",
       "4               48              153                 0                    0   \n",
       "\n",
       "   tweet_reply_count                                             source  \\\n",
       "0                  0  <a href=\"http://twitter.com/#!/download/ipad\" ...   \n",
       "1                  0  <a href=\"http://twitter.com/download/iphone\" r...   \n",
       "2                  0  <a href=\"http://twitter.com/download/android\" ...   \n",
       "3                  0  <a href=\"http://twitter.com/download/iphone\" r...   \n",
       "4                  0  <a href=\"http://twitter.com/download/iphone\" r...   \n",
       "\n",
       "                                          tweet_text  \\\n",
       "0  iPhone SE 3 gets more expensive in the UK afte...   \n",
       "1  @Travon I hope it happens before my iPhone 14 ...   \n",
       "2  Nah iphone 14 upgrade just not it, change my m...   \n",
       "3  To the shock of absolutely no one: \\n\\nApple: ...   \n",
       "4  @TMobile @TMobileHelp will you be able to orde...   \n",
       "\n",
       "                                    clean_tweet_text  \n",
       "0  iPhone SE 3 gets more expensive in the UK afte...  \n",
       "1  @Travon I hope it happens before my iPhone 14 ...  \n",
       "2  Nah iphone 14 upgrade just not it, change my m...  \n",
       "3  To the shock of absolutely no one: \\n\\nApple: ...  \n",
       "4  @TMobile @TMobileHelp will you be able to orde...  "
      ]
     },
     "execution_count": 7,
     "metadata": {},
     "output_type": "execute_result"
    }
   ],
   "source": [
    "df.head(5) #show data"
   ]
  },
  {
   "cell_type": "code",
   "execution_count": 8,
   "id": "8aea128e",
   "metadata": {},
   "outputs": [
    {
     "data": {
      "text/html": [
       "<div>\n",
       "<style scoped>\n",
       "    .dataframe tbody tr th:only-of-type {\n",
       "        vertical-align: middle;\n",
       "    }\n",
       "\n",
       "    .dataframe tbody tr th {\n",
       "        vertical-align: top;\n",
       "    }\n",
       "\n",
       "    .dataframe thead th {\n",
       "        text-align: right;\n",
       "    }\n",
       "</style>\n",
       "<table border=\"1\" class=\"dataframe\">\n",
       "  <thead>\n",
       "    <tr style=\"text-align: right;\">\n",
       "      <th></th>\n",
       "      <th>tweet_text</th>\n",
       "      <th>clean_tweet_text</th>\n",
       "    </tr>\n",
       "  </thead>\n",
       "  <tbody>\n",
       "    <tr>\n",
       "      <th>0</th>\n",
       "      <td>iPhone SE 3 gets more expensive in the UK afte...</td>\n",
       "      <td>iPhone SE   gets more expensive in the UK afte...</td>\n",
       "    </tr>\n",
       "    <tr>\n",
       "      <th>1</th>\n",
       "      <td>@Travon I hope it happens before my iPhone 14 ...</td>\n",
       "      <td>@Travon I hope it happens before my iPhone   a...</td>\n",
       "    </tr>\n",
       "    <tr>\n",
       "      <th>2</th>\n",
       "      <td>Nah iphone 14 upgrade just not it, change my m...</td>\n",
       "      <td>Nah iphone   upgrade just not it, change my mind.</td>\n",
       "    </tr>\n",
       "    <tr>\n",
       "      <th>3</th>\n",
       "      <td>To the shock of absolutely no one: \\n\\nApple: ...</td>\n",
       "      <td>To the shock of absolutely no one: \\n\\nApple: ...</td>\n",
       "    </tr>\n",
       "    <tr>\n",
       "      <th>4</th>\n",
       "      <td>@TMobile @TMobileHelp will you be able to orde...</td>\n",
       "      <td>@TMobile @TMobileHelp will you be able to orde...</td>\n",
       "    </tr>\n",
       "    <tr>\n",
       "      <th>...</th>\n",
       "      <td>...</td>\n",
       "      <td>...</td>\n",
       "    </tr>\n",
       "    <tr>\n",
       "      <th>144240</th>\n",
       "      <td>iPhone 14 ENTIRE Lineup Early Look - https://t...</td>\n",
       "      <td>iPhone   ENTIRE Lineup Early Look -</td>\n",
       "    </tr>\n",
       "    <tr>\n",
       "      <th>144241</th>\n",
       "      <td>iPhone 14 strength will battle weak consumer s...</td>\n",
       "      <td>iPhone   strength will battle weak consumer sp...</td>\n",
       "    </tr>\n",
       "    <tr>\n",
       "      <th>144242</th>\n",
       "      <td>@robertrosenfeld My Pixel 4's battery, never t...</td>\n",
       "      <td>@robertrosenfeld My Pixel  's battery, never t...</td>\n",
       "    </tr>\n",
       "    <tr>\n",
       "      <th>144243</th>\n",
       "      <td>i don’t understand people who buy every new ip...</td>\n",
       "      <td>i don’t understand people who buy every new ip...</td>\n",
       "    </tr>\n",
       "    <tr>\n",
       "      <th>144244</th>\n",
       "      <td>iPhone 14 Series Could Cost $100 Higher Than i...</td>\n",
       "      <td>iPhone   Series Could Cost $  Higher Than iPho...</td>\n",
       "    </tr>\n",
       "  </tbody>\n",
       "</table>\n",
       "<p>144245 rows × 2 columns</p>\n",
       "</div>"
      ],
      "text/plain": [
       "                                               tweet_text  \\\n",
       "0       iPhone SE 3 gets more expensive in the UK afte...   \n",
       "1       @Travon I hope it happens before my iPhone 14 ...   \n",
       "2       Nah iphone 14 upgrade just not it, change my m...   \n",
       "3       To the shock of absolutely no one: \\n\\nApple: ...   \n",
       "4       @TMobile @TMobileHelp will you be able to orde...   \n",
       "...                                                   ...   \n",
       "144240  iPhone 14 ENTIRE Lineup Early Look - https://t...   \n",
       "144241  iPhone 14 strength will battle weak consumer s...   \n",
       "144242  @robertrosenfeld My Pixel 4's battery, never t...   \n",
       "144243  i don’t understand people who buy every new ip...   \n",
       "144244  iPhone 14 Series Could Cost $100 Higher Than i...   \n",
       "\n",
       "                                         clean_tweet_text  \n",
       "0       iPhone SE   gets more expensive in the UK afte...  \n",
       "1       @Travon I hope it happens before my iPhone   a...  \n",
       "2       Nah iphone   upgrade just not it, change my mind.  \n",
       "3       To the shock of absolutely no one: \\n\\nApple: ...  \n",
       "4       @TMobile @TMobileHelp will you be able to orde...  \n",
       "...                                                   ...  \n",
       "144240              iPhone   ENTIRE Lineup Early Look -    \n",
       "144241  iPhone   strength will battle weak consumer sp...  \n",
       "144242  @robertrosenfeld My Pixel  's battery, never t...  \n",
       "144243  i don’t understand people who buy every new ip...  \n",
       "144244  iPhone   Series Could Cost $  Higher Than iPho...  \n",
       "\n",
       "[144245 rows x 2 columns]"
      ]
     },
     "execution_count": 8,
     "metadata": {},
     "output_type": "execute_result"
    }
   ],
   "source": [
    "df[\"clean_tweet_text\"].replace(r'\\d+', ' ', regex = True, inplace = True)\n",
    "df[[\"tweet_text\",\"clean_tweet_text\"]] # show cleaned data"
   ]
  },
  {
   "cell_type": "code",
   "execution_count": 9,
   "id": "3b3cb30f",
   "metadata": {},
   "outputs": [
    {
     "data": {
      "text/plain": [
       "tweet_text          Fire Red 3’s secured. IPhone 14 pro max preord...\n",
       "clean_tweet_text    Fire Red  s secured. IPhone   pro max preorder...\n",
       "Name: 12, dtype: object"
      ]
     },
     "execution_count": 9,
     "metadata": {},
     "output_type": "execute_result"
    }
   ],
   "source": [
    "def deEmojify(inputString):\n",
    "    return inputString.encode('ascii', 'ignore').decode('ascii')\n",
    "df[\"clean_tweet_text\"] = df[\"clean_tweet_text\"].apply(lambda s: deEmojify(s))\n",
    "df[['tweet_text','clean_tweet_text']].iloc[12]\n",
    "#defines function, removes unicode, cleans the tweet_text column, and shows it without the unicodes"
   ]
  },
  {
   "cell_type": "code",
   "execution_count": 11,
   "id": "48e9e347",
   "metadata": {},
   "outputs": [
    {
     "data": {
      "text/html": [
       "<div>\n",
       "<style scoped>\n",
       "    .dataframe tbody tr th:only-of-type {\n",
       "        vertical-align: middle;\n",
       "    }\n",
       "\n",
       "    .dataframe tbody tr th {\n",
       "        vertical-align: top;\n",
       "    }\n",
       "\n",
       "    .dataframe thead th {\n",
       "        text-align: right;\n",
       "    }\n",
       "</style>\n",
       "<table border=\"1\" class=\"dataframe\">\n",
       "  <thead>\n",
       "    <tr style=\"text-align: right;\">\n",
       "      <th></th>\n",
       "      <th>tweet_text</th>\n",
       "      <th>clean_tweet_text</th>\n",
       "    </tr>\n",
       "  </thead>\n",
       "  <tbody>\n",
       "    <tr>\n",
       "      <th>0</th>\n",
       "      <td>iPhone SE 3 gets more expensive in the UK afte...</td>\n",
       "      <td>iphone se gets expensive uk iphone event</td>\n",
       "    </tr>\n",
       "    <tr>\n",
       "      <th>1</th>\n",
       "      <td>@Travon I hope it happens before my iPhone 14 ...</td>\n",
       "      <td>@travon hope happens iphone arrives.</td>\n",
       "    </tr>\n",
       "    <tr>\n",
       "      <th>2</th>\n",
       "      <td>Nah iphone 14 upgrade just not it, change my m...</td>\n",
       "      <td>nah iphone upgrade it, change mind.</td>\n",
       "    </tr>\n",
       "    <tr>\n",
       "      <th>3</th>\n",
       "      <td>To the shock of absolutely no one: \\n\\nApple: ...</td>\n",
       "      <td>shock absolutely one: apple: ready iphone ? pp...</td>\n",
       "    </tr>\n",
       "    <tr>\n",
       "      <th>4</th>\n",
       "      <td>@TMobile @TMobileHelp will you be able to orde...</td>\n",
       "      <td>@tmobile @tmobilehelp able order iphone pro on...</td>\n",
       "    </tr>\n",
       "    <tr>\n",
       "      <th>...</th>\n",
       "      <td>...</td>\n",
       "      <td>...</td>\n",
       "    </tr>\n",
       "    <tr>\n",
       "      <th>144240</th>\n",
       "      <td>iPhone 14 ENTIRE Lineup Early Look - https://t...</td>\n",
       "      <td>iphone entire lineup early look -</td>\n",
       "    </tr>\n",
       "    <tr>\n",
       "      <th>144241</th>\n",
       "      <td>iPhone 14 strength will battle weak consumer s...</td>\n",
       "      <td>iphone strength battle weak consumer spending ...</td>\n",
       "    </tr>\n",
       "    <tr>\n",
       "      <th>144242</th>\n",
       "      <td>@robertrosenfeld My Pixel 4's battery, never t...</td>\n",
       "      <td>@robertrosenfeld pixel 's battery, never great...</td>\n",
       "    </tr>\n",
       "    <tr>\n",
       "      <th>144243</th>\n",
       "      <td>i don’t understand people who buy every new ip...</td>\n",
       "      <td>dont understand people buy every new iphone do...</td>\n",
       "    </tr>\n",
       "    <tr>\n",
       "      <th>144244</th>\n",
       "      <td>iPhone 14 Series Could Cost $100 Higher Than i...</td>\n",
       "      <td>iphone series could cost $ higher iphone</td>\n",
       "    </tr>\n",
       "  </tbody>\n",
       "</table>\n",
       "<p>144245 rows × 2 columns</p>\n",
       "</div>"
      ],
      "text/plain": [
       "                                               tweet_text  \\\n",
       "0       iPhone SE 3 gets more expensive in the UK afte...   \n",
       "1       @Travon I hope it happens before my iPhone 14 ...   \n",
       "2       Nah iphone 14 upgrade just not it, change my m...   \n",
       "3       To the shock of absolutely no one: \\n\\nApple: ...   \n",
       "4       @TMobile @TMobileHelp will you be able to orde...   \n",
       "...                                                   ...   \n",
       "144240  iPhone 14 ENTIRE Lineup Early Look - https://t...   \n",
       "144241  iPhone 14 strength will battle weak consumer s...   \n",
       "144242  @robertrosenfeld My Pixel 4's battery, never t...   \n",
       "144243  i don’t understand people who buy every new ip...   \n",
       "144244  iPhone 14 Series Could Cost $100 Higher Than i...   \n",
       "\n",
       "                                         clean_tweet_text  \n",
       "0                iphone se gets expensive uk iphone event  \n",
       "1                    @travon hope happens iphone arrives.  \n",
       "2                     nah iphone upgrade it, change mind.  \n",
       "3       shock absolutely one: apple: ready iphone ? pp...  \n",
       "4       @tmobile @tmobilehelp able order iphone pro on...  \n",
       "...                                                   ...  \n",
       "144240                  iphone entire lineup early look -  \n",
       "144241  iphone strength battle weak consumer spending ...  \n",
       "144242  @robertrosenfeld pixel 's battery, never great...  \n",
       "144243  dont understand people buy every new iphone do...  \n",
       "144244           iphone series could cost $ higher iphone  \n",
       "\n",
       "[144245 rows x 2 columns]"
      ]
     },
     "execution_count": 11,
     "metadata": {},
     "output_type": "execute_result"
    }
   ],
   "source": [
    "def rem_en(input_txt):\n",
    "    words = input_txt.lower().split()\n",
    "    noise_free_words = [word for word in words if word not in stop] \n",
    "    noise_free_text = \" \".join(noise_free_words) \n",
    "    return noise_free_text\n",
    "\n",
    "df[\"clean_tweet_text\"] = df[\"clean_tweet_text\"].apply(lambda s: rem_en(s))\n",
    "df[[\"tweet_text\",\"clean_tweet_text\"]]\n",
    "#another defined term to clean the tweet_text column and show it next to the original"
   ]
  },
  {
   "cell_type": "code",
   "execution_count": 12,
   "id": "442303b2",
   "metadata": {},
   "outputs": [
    {
     "data": {
      "text/html": [
       "<div>\n",
       "<style scoped>\n",
       "    .dataframe tbody tr th:only-of-type {\n",
       "        vertical-align: middle;\n",
       "    }\n",
       "\n",
       "    .dataframe tbody tr th {\n",
       "        vertical-align: top;\n",
       "    }\n",
       "\n",
       "    .dataframe thead th {\n",
       "        text-align: right;\n",
       "    }\n",
       "</style>\n",
       "<table border=\"1\" class=\"dataframe\">\n",
       "  <thead>\n",
       "    <tr style=\"text-align: right;\">\n",
       "      <th></th>\n",
       "      <th>tweet_text</th>\n",
       "      <th>clean_tweet_text</th>\n",
       "    </tr>\n",
       "  </thead>\n",
       "  <tbody>\n",
       "    <tr>\n",
       "      <th>0</th>\n",
       "      <td>iPhone SE 3 gets more expensive in the UK afte...</td>\n",
       "      <td>[iphone, se, gets, expensive, uk, iphone, event]</td>\n",
       "    </tr>\n",
       "    <tr>\n",
       "      <th>1</th>\n",
       "      <td>@Travon I hope it happens before my iPhone 14 ...</td>\n",
       "      <td>[travon, hope, happens, iphone, arrives]</td>\n",
       "    </tr>\n",
       "    <tr>\n",
       "      <th>2</th>\n",
       "      <td>Nah iphone 14 upgrade just not it, change my m...</td>\n",
       "      <td>[nah, iphone, upgrade, it, change, mind]</td>\n",
       "    </tr>\n",
       "    <tr>\n",
       "      <th>3</th>\n",
       "      <td>To the shock of absolutely no one: \\n\\nApple: ...</td>\n",
       "      <td>[shock, absolutely, one, apple, ready, iphone,...</td>\n",
       "    </tr>\n",
       "    <tr>\n",
       "      <th>4</th>\n",
       "      <td>@TMobile @TMobileHelp will you be able to orde...</td>\n",
       "      <td>[tmobile, tmobilehelp, able, order, iphone, pr...</td>\n",
       "    </tr>\n",
       "    <tr>\n",
       "      <th>...</th>\n",
       "      <td>...</td>\n",
       "      <td>...</td>\n",
       "    </tr>\n",
       "    <tr>\n",
       "      <th>144240</th>\n",
       "      <td>iPhone 14 ENTIRE Lineup Early Look - https://t...</td>\n",
       "      <td>[iphone, entire, lineup, early, look]</td>\n",
       "    </tr>\n",
       "    <tr>\n",
       "      <th>144241</th>\n",
       "      <td>iPhone 14 strength will battle weak consumer s...</td>\n",
       "      <td>[iphone, strength, battle, weak, consumer, spe...</td>\n",
       "    </tr>\n",
       "    <tr>\n",
       "      <th>144242</th>\n",
       "      <td>@robertrosenfeld My Pixel 4's battery, never t...</td>\n",
       "      <td>[robertrosenfeld, pixel, s, battery, never, gr...</td>\n",
       "    </tr>\n",
       "    <tr>\n",
       "      <th>144243</th>\n",
       "      <td>i don’t understand people who buy every new ip...</td>\n",
       "      <td>[dont, understand, people, buy, every, new, ip...</td>\n",
       "    </tr>\n",
       "    <tr>\n",
       "      <th>144244</th>\n",
       "      <td>iPhone 14 Series Could Cost $100 Higher Than i...</td>\n",
       "      <td>[iphone, series, could, cost, higher, iphone]</td>\n",
       "    </tr>\n",
       "  </tbody>\n",
       "</table>\n",
       "<p>144245 rows × 2 columns</p>\n",
       "</div>"
      ],
      "text/plain": [
       "                                               tweet_text  \\\n",
       "0       iPhone SE 3 gets more expensive in the UK afte...   \n",
       "1       @Travon I hope it happens before my iPhone 14 ...   \n",
       "2       Nah iphone 14 upgrade just not it, change my m...   \n",
       "3       To the shock of absolutely no one: \\n\\nApple: ...   \n",
       "4       @TMobile @TMobileHelp will you be able to orde...   \n",
       "...                                                   ...   \n",
       "144240  iPhone 14 ENTIRE Lineup Early Look - https://t...   \n",
       "144241  iPhone 14 strength will battle weak consumer s...   \n",
       "144242  @robertrosenfeld My Pixel 4's battery, never t...   \n",
       "144243  i don’t understand people who buy every new ip...   \n",
       "144244  iPhone 14 Series Could Cost $100 Higher Than i...   \n",
       "\n",
       "                                         clean_tweet_text  \n",
       "0        [iphone, se, gets, expensive, uk, iphone, event]  \n",
       "1                [travon, hope, happens, iphone, arrives]  \n",
       "2                [nah, iphone, upgrade, it, change, mind]  \n",
       "3       [shock, absolutely, one, apple, ready, iphone,...  \n",
       "4       [tmobile, tmobilehelp, able, order, iphone, pr...  \n",
       "...                                                   ...  \n",
       "144240              [iphone, entire, lineup, early, look]  \n",
       "144241  [iphone, strength, battle, weak, consumer, spe...  \n",
       "144242  [robertrosenfeld, pixel, s, battery, never, gr...  \n",
       "144243  [dont, understand, people, buy, every, new, ip...  \n",
       "144244      [iphone, series, could, cost, higher, iphone]  \n",
       "\n",
       "[144245 rows x 2 columns]"
      ]
     },
     "execution_count": 12,
     "metadata": {},
     "output_type": "execute_result"
    }
   ],
   "source": [
    "from nltk.tokenize import RegexpTokenizer\n",
    "tokeniser = RegexpTokenizer(r'\\w+')\n",
    "df[\"clean_tweet_text\"] = df[\"clean_tweet_text\"].apply(lambda x: tokeniser.tokenize(x))\n",
    "df[[\"tweet_text\",\"clean_tweet_text\"]]"
   ]
  },
  {
   "cell_type": "code",
   "execution_count": null,
   "id": "ff6f8e14",
   "metadata": {},
   "outputs": [],
   "source": []
  },
  {
   "cell_type": "code",
   "execution_count": 13,
   "id": "52aec862",
   "metadata": {},
   "outputs": [
    {
     "data": {
      "text/plain": [
       "['iphone', 'se', 'gets', 'expensive', 'uk', 'iphone', 'event']"
      ]
     },
     "execution_count": 13,
     "metadata": {},
     "output_type": "execute_result"
    }
   ],
   "source": [
    "texts= df[\"clean_tweet_text\"]\n",
    "\n",
    "\n",
    "texts\n",
    "#list(myList[0])\n",
    "\n",
    "words_list = [word for line in list(texts[0]) for word in line.split()]\n",
    "words_list"
   ]
  },
  {
   "cell_type": "code",
   "execution_count": 14,
   "id": "b91aed80",
   "metadata": {},
   "outputs": [
    {
     "data": {
      "text/plain": [
       "['iphone', 'se', 'gets', 'expensive', 'uk']"
      ]
     },
     "execution_count": 14,
     "metadata": {},
     "output_type": "execute_result"
    }
   ],
   "source": [
    "words_list[:5]"
   ]
  },
  {
   "cell_type": "code",
   "execution_count": 15,
   "id": "686f5fc3",
   "metadata": {},
   "outputs": [
    {
     "name": "stdout",
     "output_type": "stream",
     "text": [
      "no display found. Using non-interactive Agg backend\n"
     ]
    },
    {
     "name": "stderr",
     "output_type": "stream",
     "text": [
      "[nltk_data] Downloading package punkt to\n",
      "[nltk_data]     /Users/anthonyvincent/nltk_data...\n",
      "[nltk_data]   Package punkt is already up-to-date!\n"
     ]
    },
    {
     "data": {
      "text/plain": [
       "True"
      ]
     },
     "execution_count": 15,
     "metadata": {},
     "output_type": "execute_result"
    }
   ],
   "source": [
    "from zipfile import ZipFile\n",
    "import pandas as pd\n",
    "from sklearn.model_selection import train_test_split\n",
    "from sklearn.feature_extraction.text import CountVectorizer\n",
    "from sklearn.feature_extraction.text import TfidfTransformer\n",
    "from sklearn.feature_extraction import _stop_words\n",
    "from sklearn.feature_extraction.text import ENGLISH_STOP_WORDS\n",
    "from sklearn.decomposition import TruncatedSVD\n",
    "from sklearn.preprocessing import Normalizer\n",
    "from sklearn.pipeline import make_pipeline\n",
    "from sklearn.linear_model import LogisticRegression\n",
    "import nltk\n",
    "from nltk import word_tokenize\n",
    "from nltk.stem.snowball import EnglishStemmer\n",
    "import matplotlib.pylab as plt\n",
    "from dmba import printTermDocumentMatrix, classificationSummary, liftChart\n",
    "\n",
    "nltk.download('punkt')"
   ]
  },
  {
   "cell_type": "code",
   "execution_count": 16,
   "id": "f49dc1ae",
   "metadata": {},
   "outputs": [],
   "source": [
    "class LemmaTokenizer(object):\n",
    "    def __init__(self):\n",
    "        self.stemmer = EnglishStemmer()\n",
    "        self.stopWords = set(ENGLISH_STOP_WORDS)\n",
    "        \n",
    "    def __call__(self, doc):\n",
    "        return [self.stemmer.stem(t) for t in word_tokenize(doc) \n",
    "                if t.isalpha() and t not in self.stopWords]\n",
    "#defines LemmaTokenizer, uses text analysis for this function, initializes english stemmer\n",
    "#defines a call method and uses the nltk library\n",
    "#stemming to each token applied"
   ]
  },
  {
   "cell_type": "code",
   "execution_count": 17,
   "id": "07ae173d",
   "metadata": {},
   "outputs": [
    {
     "name": "stdout",
     "output_type": "stream",
     "text": [
      "        S1  S2  S3  S4  S5  S6  S7\n",
      "event    0   0   0   0   0   0   1\n",
      "expens   0   0   0   1   0   0   0\n",
      "get      0   0   1   0   0   0   0\n",
      "iphon    1   0   0   0   0   1   0\n",
      "se       0   1   0   0   0   0   0\n",
      "uk       0   0   0   0   1   0   0\n"
     ]
    }
   ],
   "source": [
    "count_vect = CountVectorizer(tokenizer=LemmaTokenizer())\n",
    "counts = count_vect.fit_transform(list(texts[0]))\n",
    "\n",
    "printTermDocumentMatrix(count_vect, counts)\n",
    "#sets a countvecotrizes and through pre-processing the texts occurance numbers will be counted and displayed"
   ]
  },
  {
   "cell_type": "code",
   "execution_count": null,
   "id": "3fa317fd",
   "metadata": {},
   "outputs": [],
   "source": [
    "#rest of the data did not work so I switched to another document!!!"
   ]
  },
  {
   "cell_type": "code",
   "execution_count": 19,
   "id": "005d345a",
   "metadata": {},
   "outputs": [],
   "source": [
    "positive_words = [\"amazing\", \"appreciate\", \"awesome\", \"beautiful\", \"best\", \"brilliant\", \"celebrate\", \"cheer\", \"cool\",\n",
    "                  \"delicious\", \"eager\", \"enjoy\", \"fortunate\", \"fun\", \"glad\", \"good\", \"happy\", \"kind\",\"love\", \"merry\", \"nice\",\n",
    "                  \"pleasant\", \"polite\", \"praise\", \"relax\", \"Sweet\", \"top-notch\", \"win\", \"yay\"]\n",
    "\n",
    "negative_words = [\"aggressive\", \"anger\", \"annoy\", \"bad\", \"bloody\", \"bored\", \"careless\", \"cocky\", \"death\", \"defy\", \"denial\",\n",
    "                  \"detest\", \"dirty\", \"error\", \"fail\", \"guilt\", \"hate\", \"haunt\", \"idiot\", \"implode\", \"inhumane\", \"insult\",\n",
    "                  \"irritate\", \"lousy\", \"mad\", \"outrage\", \"poor\", \"refute\", \"sad\", \"sick\", \"strict\", \"stuck\", \"unequal\",\n",
    "                  \"waste\", \"wrong\"]"
   ]
  },
  {
   "cell_type": "code",
   "execution_count": 62,
   "id": "188b636c",
   "metadata": {},
   "outputs": [
    {
     "name": "stdout",
     "output_type": "stream",
     "text": [
      "[]\n",
      "[]\n",
      "[]\n"
     ]
    }
   ],
   "source": [
    "for tweet in df['tweet_text']:\n",
    "    tokens = tweet.split()\n",
    "    positive_words = []\n",
    "    for token in tokens:\n",
    "        if token.lower() in p_words:\n",
    "            positive_words.append(token)\n",
    "    print(positive_words)"
   ]
  },
  {
   "cell_type": "code",
   "execution_count": 75,
   "id": "6959546e",
   "metadata": {},
   "outputs": [],
   "source": [
    "import pandas as pd\n",
    "import nltk\n",
    "from nltk.sentiment import SentimentIntensityAnalyzer"
   ]
  },
  {
   "cell_type": "code",
   "execution_count": null,
   "id": "55caf350",
   "metadata": {},
   "outputs": [],
   "source": [
    "sia = SentimentIntensityAnalyzer()"
   ]
  },
  {
   "cell_type": "code",
   "execution_count": 70,
   "id": "84754b38",
   "metadata": {},
   "outputs": [],
   "source": [
    "positive_words = df['tweet_text'].apply(lambda x: [word for word in nltk.word_tokenize(x.lower()) if word.isalpha()])"
   ]
  },
  {
   "cell_type": "code",
   "execution_count": 67,
   "id": "7445c10a",
   "metadata": {
    "scrolled": true
   },
   "outputs": [
    {
     "name": "stdout",
     "output_type": "stream",
     "text": [
      "{'be', 'then', 'an', 'yourselves', 'he', 'have', \"couldn't\", 'ourselves', 'you', 'and', 'once', 'been', 'was', 'i', 'll', 'won', 'has', 'during', \"aren't\", 'them', 'had', 'me', \"she's\", \"isn't\", 'don', 'the', 'should', 'than', 'why', 'will', 'am', 'being', 'they', 'about', 'herself', 'this', 'ain', 'his', 'before', \"that'll\", 'isn', 'm', 'under', 'most', 's', 'of', 'same', 't', 'were', 'between', 'up', 'hers', 'below', 'at', 'she', 'itself', 'how', 'hasn', \"haven't\", 'in', 'yours', 've', 'down', 'wasn', 'other', \"didn't\", 'ma', 'him', \"hasn't\", 're', \"mightn't\", 'what', \"don't\", 'mustn', 'few', \"wouldn't\", \"it's\", 'further', 'nor', 'are', 'do', 'ours', 'her', 'too', 'our', 'through', 'we', 'out', 'hadn', 'all', 'yourself', 'more', 'so', 'can', 'but', \"won't\", 'shouldn', 'such', \"you'd\", 'a', 'off', 'didn', 'until', 'it', 'only', 'o', 'on', \"you're\", 'again', 'which', 'each', 'aren', 'these', 'wouldn', 'doing', 'because', 'against', 'there', 'when', 'into', 'y', 'to', 'shan', 'above', 'both', 'your', 'couldn', 'with', 'very', 'not', 'having', 'from', 'd', 'or', 'did', 'as', 'myself', \"you'll\", 'while', 'its', 'no', 'himself', 'their', 'my', 'needn', \"wasn't\", \"needn't\", 'themselves', 'whom', \"mustn't\", 'is', \"weren't\", 'does', 'if', 'here', 'some', 'who', 'weren', 'any', 'just', 'haven', 'theirs', 'now', 'that', 'for', \"doesn't\", 'mightn', 'by', 'over', 'those', 'after', \"should've\", \"shouldn't\", \"hadn't\", \"shan't\", \"you've\", 'doesn', 'where', 'own'}\n"
     ]
    },
    {
     "name": "stderr",
     "output_type": "stream",
     "text": [
      "[nltk_data] Downloading package stopwords to\n",
      "[nltk_data]     /Users/anthonyvincent/nltk_data...\n",
      "[nltk_data]   Package stopwords is already up-to-date!\n"
     ]
    }
   ],
   "source": [
    "import nltk\n",
    "from nltk.corpus import stopwords\n",
    "nltk.download('stopwords')\n",
    "stop = set(stopwords.words('english'))\n",
    "print(stop)"
   ]
  },
  {
   "cell_type": "code",
   "execution_count": null,
   "id": "b1582528",
   "metadata": {},
   "outputs": [],
   "source": []
  },
  {
   "cell_type": "code",
   "execution_count": null,
   "id": "7739f58f",
   "metadata": {},
   "outputs": [],
   "source": [
    "\n"
   ]
  },
  {
   "cell_type": "code",
   "execution_count": 69,
   "id": "953be0e8",
   "metadata": {},
   "outputs": [],
   "source": [
    "\n"
   ]
  },
  {
   "cell_type": "code",
   "execution_count": 20,
   "id": "f61a92de",
   "metadata": {},
   "outputs": [],
   "source": [
    "text = df[\"tweet_text\"]\n",
    "tokeniser = RegexpTokenizer(r'\\w+')"
   ]
  },
  {
   "cell_type": "code",
   "execution_count": 63,
   "id": "788e2277",
   "metadata": {},
   "outputs": [],
   "source": [
    "#Remove stop words\n",
    "stopWords = list(sorted(ENGLISH_STOP_WORDS))\n"
   ]
  },
  {
   "cell_type": "code",
   "execution_count": 22,
   "id": "11ee3b10",
   "metadata": {},
   "outputs": [],
   "source": [
    "df.dropna(inplace=True)"
   ]
  },
  {
   "cell_type": "code",
   "execution_count": null,
   "id": "5ecb6d38",
   "metadata": {},
   "outputs": [],
   "source": []
  },
  {
   "cell_type": "code",
   "execution_count": 23,
   "id": "fe7f1c0a",
   "metadata": {},
   "outputs": [],
   "source": [
    "df['tweet_text'] = pd.to_numeric(df['tweet_text'], errors = 'coerce')"
   ]
  },
  {
   "cell_type": "code",
   "execution_count": null,
   "id": "ff14eab4",
   "metadata": {},
   "outputs": [],
   "source": []
  },
  {
   "cell_type": "code",
   "execution_count": null,
   "id": "a31a4976",
   "metadata": {},
   "outputs": [],
   "source": []
  },
  {
   "cell_type": "code",
   "execution_count": null,
   "id": "fb6a2f7e",
   "metadata": {},
   "outputs": [],
   "source": []
  },
  {
   "cell_type": "code",
   "execution_count": 24,
   "id": "894233fa",
   "metadata": {},
   "outputs": [
    {
     "name": "stderr",
     "output_type": "stream",
     "text": [
      "[nltk_data] Downloading package punkt to\n",
      "[nltk_data]     /Users/anthonyvincent/nltk_data...\n",
      "[nltk_data]   Package punkt is already up-to-date!\n",
      "[nltk_data] Downloading package stopwords to\n",
      "[nltk_data]     /Users/anthonyvincent/nltk_data...\n",
      "[nltk_data]   Package stopwords is already up-to-date!\n"
     ]
    }
   ],
   "source": [
    "import warnings\n",
    "warnings.filterwarnings('ignore')\n",
    "import pandas as pd\n",
    "from sklearn.feature_extraction.text import TfidfVectorizer\n",
    "import matplotlib.pyplot as plt\n",
    "from wordcloud import WordCloud\n",
    "import nltk\n",
    "nltk.download('punkt')\n",
    "nltk.download('stopwords')\n",
    "from nltk.corpus import stopwords"
   ]
  },
  {
   "cell_type": "code",
   "execution_count": 25,
   "id": "404a5157",
   "metadata": {},
   "outputs": [
    {
     "data": {
      "text/html": [
       "<div>\n",
       "<style scoped>\n",
       "    .dataframe tbody tr th:only-of-type {\n",
       "        vertical-align: middle;\n",
       "    }\n",
       "\n",
       "    .dataframe tbody tr th {\n",
       "        vertical-align: top;\n",
       "    }\n",
       "\n",
       "    .dataframe thead th {\n",
       "        text-align: right;\n",
       "    }\n",
       "</style>\n",
       "<table border=\"1\" class=\"dataframe\">\n",
       "  <thead>\n",
       "    <tr style=\"text-align: right;\">\n",
       "      <th></th>\n",
       "      <th>date_time</th>\n",
       "      <th>username</th>\n",
       "      <th>user_location</th>\n",
       "      <th>user_description</th>\n",
       "      <th>verified</th>\n",
       "      <th>followers_count</th>\n",
       "      <th>following_count</th>\n",
       "      <th>tweet_like_count</th>\n",
       "      <th>tweet_retweet_count</th>\n",
       "      <th>tweet_reply_count</th>\n",
       "      <th>source</th>\n",
       "      <th>tweet_text</th>\n",
       "    </tr>\n",
       "  </thead>\n",
       "  <tbody>\n",
       "    <tr>\n",
       "      <th>0</th>\n",
       "      <td>2022-09-08 22:49:29+00:00</td>\n",
       "      <td>TheAppleGang101</td>\n",
       "      <td>NaN</td>\n",
       "      <td>A new account dedicated to all of the latest l...</td>\n",
       "      <td>False</td>\n",
       "      <td>10</td>\n",
       "      <td>28</td>\n",
       "      <td>0</td>\n",
       "      <td>0</td>\n",
       "      <td>0</td>\n",
       "      <td>&lt;a href=\"http://twitter.com/#!/download/ipad\" ...</td>\n",
       "      <td>iPhone SE 3 gets more expensive in the UK afte...</td>\n",
       "    </tr>\n",
       "    <tr>\n",
       "      <th>1</th>\n",
       "      <td>2022-09-08 22:49:27+00:00</td>\n",
       "      <td>TheJessicats</td>\n",
       "      <td>1999</td>\n",
       "      <td>Tweet like nobody’s reading • standup comedian...</td>\n",
       "      <td>False</td>\n",
       "      <td>1642</td>\n",
       "      <td>1444</td>\n",
       "      <td>0</td>\n",
       "      <td>0</td>\n",
       "      <td>0</td>\n",
       "      <td>&lt;a href=\"http://twitter.com/download/iphone\" r...</td>\n",
       "      <td>@Travon I hope it happens before my iPhone 14 ...</td>\n",
       "    </tr>\n",
       "    <tr>\n",
       "      <th>2</th>\n",
       "      <td>2022-09-08 22:49:16+00:00</td>\n",
       "      <td>itschefnotjeff</td>\n",
       "      <td>📌 mom's basement</td>\n",
       "      <td>👨🏽‍💻💳🎫✈️</td>\n",
       "      <td>False</td>\n",
       "      <td>77</td>\n",
       "      <td>87</td>\n",
       "      <td>0</td>\n",
       "      <td>0</td>\n",
       "      <td>0</td>\n",
       "      <td>&lt;a href=\"http://twitter.com/download/android\" ...</td>\n",
       "      <td>Nah iphone 14 upgrade just not it, change my m...</td>\n",
       "    </tr>\n",
       "    <tr>\n",
       "      <th>3</th>\n",
       "      <td>2022-09-08 22:49:09+00:00</td>\n",
       "      <td>HalfRonin</td>\n",
       "      <td>Between the darkness and light</td>\n",
       "      <td>Preferring to be the dumbest person in the roo...</td>\n",
       "      <td>False</td>\n",
       "      <td>549</td>\n",
       "      <td>717</td>\n",
       "      <td>0</td>\n",
       "      <td>0</td>\n",
       "      <td>0</td>\n",
       "      <td>&lt;a href=\"http://twitter.com/download/iphone\" r...</td>\n",
       "      <td>To the shock of absolutely no one: \\n\\nApple: ...</td>\n",
       "    </tr>\n",
       "    <tr>\n",
       "      <th>4</th>\n",
       "      <td>2022-09-08 22:49:09+00:00</td>\n",
       "      <td>Deejayrayman</td>\n",
       "      <td>Texas</td>\n",
       "      <td>Father of 3. Follower of Christ. Lover of all ...</td>\n",
       "      <td>False</td>\n",
       "      <td>48</td>\n",
       "      <td>153</td>\n",
       "      <td>0</td>\n",
       "      <td>0</td>\n",
       "      <td>0</td>\n",
       "      <td>&lt;a href=\"http://twitter.com/download/iphone\" r...</td>\n",
       "      <td>@TMobile @TMobileHelp will you be able to orde...</td>\n",
       "    </tr>\n",
       "  </tbody>\n",
       "</table>\n",
       "</div>"
      ],
      "text/plain": [
       "                   date_time         username                   user_location  \\\n",
       "0  2022-09-08 22:49:29+00:00  TheAppleGang101                             NaN   \n",
       "1  2022-09-08 22:49:27+00:00     TheJessicats                            1999   \n",
       "2  2022-09-08 22:49:16+00:00   itschefnotjeff               📌 mom's basement    \n",
       "3  2022-09-08 22:49:09+00:00        HalfRonin  Between the darkness and light   \n",
       "4  2022-09-08 22:49:09+00:00     Deejayrayman                           Texas   \n",
       "\n",
       "                                    user_description  verified  \\\n",
       "0  A new account dedicated to all of the latest l...     False   \n",
       "1  Tweet like nobody’s reading • standup comedian...     False   \n",
       "2                                           👨🏽‍💻💳🎫✈️     False   \n",
       "3  Preferring to be the dumbest person in the roo...     False   \n",
       "4  Father of 3. Follower of Christ. Lover of all ...     False   \n",
       "\n",
       "   followers_count  following_count  tweet_like_count  tweet_retweet_count  \\\n",
       "0               10               28                 0                    0   \n",
       "1             1642             1444                 0                    0   \n",
       "2               77               87                 0                    0   \n",
       "3              549              717                 0                    0   \n",
       "4               48              153                 0                    0   \n",
       "\n",
       "   tweet_reply_count                                             source  \\\n",
       "0                  0  <a href=\"http://twitter.com/#!/download/ipad\" ...   \n",
       "1                  0  <a href=\"http://twitter.com/download/iphone\" r...   \n",
       "2                  0  <a href=\"http://twitter.com/download/android\" ...   \n",
       "3                  0  <a href=\"http://twitter.com/download/iphone\" r...   \n",
       "4                  0  <a href=\"http://twitter.com/download/iphone\" r...   \n",
       "\n",
       "                                          tweet_text  \n",
       "0  iPhone SE 3 gets more expensive in the UK afte...  \n",
       "1  @Travon I hope it happens before my iPhone 14 ...  \n",
       "2  Nah iphone 14 upgrade just not it, change my m...  \n",
       "3  To the shock of absolutely no one: \\n\\nApple: ...  \n",
       "4  @TMobile @TMobileHelp will you be able to orde...  "
      ]
     },
     "execution_count": 25,
     "metadata": {},
     "output_type": "execute_result"
    }
   ],
   "source": [
    "df = pd.read_csv('/Users/anthonyvincent/Downloads/iphone14-query-tweets.csv.zip')\n",
    "df.head()"
   ]
  },
  {
   "cell_type": "code",
   "execution_count": 26,
   "id": "5c16939d",
   "metadata": {},
   "outputs": [
    {
     "name": "stdout",
     "output_type": "stream",
     "text": [
      "<class 'pandas.core.frame.DataFrame'>\n",
      "RangeIndex: 144245 entries, 0 to 144244\n",
      "Data columns (total 12 columns):\n",
      " #   Column               Non-Null Count   Dtype \n",
      "---  ------               --------------   ----- \n",
      " 0   date_time            144245 non-null  object\n",
      " 1   username             144245 non-null  object\n",
      " 2   user_location        97925 non-null   object\n",
      " 3   user_description     127678 non-null  object\n",
      " 4   verified             144245 non-null  bool  \n",
      " 5   followers_count      144245 non-null  int64 \n",
      " 6   following_count      144245 non-null  int64 \n",
      " 7   tweet_like_count     144245 non-null  int64 \n",
      " 8   tweet_retweet_count  144245 non-null  int64 \n",
      " 9   tweet_reply_count    144245 non-null  int64 \n",
      " 10  source               144245 non-null  object\n",
      " 11  tweet_text           144245 non-null  object\n",
      "dtypes: bool(1), int64(5), object(6)\n",
      "memory usage: 12.2+ MB\n"
     ]
    }
   ],
   "source": [
    "df.info()"
   ]
  },
  {
   "cell_type": "code",
   "execution_count": 27,
   "id": "568d9d64",
   "metadata": {},
   "outputs": [],
   "source": [
    "df.dropna(inplace=True)"
   ]
  },
  {
   "cell_type": "code",
   "execution_count": 28,
   "id": "e6777ca9",
   "metadata": {},
   "outputs": [],
   "source": [
    "#1,2,3->negative(i.e 0)\n",
    "df.loc[df['tweet_like_count'] <= 3,'tweet_like_count'] = 0\n",
    " \n",
    "#4,5->positive(i.e 1)\n",
    "df.loc[df['tweet_like_count'] > 3,'tweet_like_count'] = 1"
   ]
  },
  {
   "cell_type": "code",
   "execution_count": 29,
   "id": "51b1a1ff",
   "metadata": {},
   "outputs": [],
   "source": [
    "stp_words=stopwords.words('english')\n",
    "\n",
    "def clean_review(review):\n",
    "    if isinstance(review, str):\n",
    "        cleanreview=\" \".join(word for word in review.split() if word not in stp_words)\n",
    "        return cleanreview\n",
    "    else:\n",
    "        return review \n",
    "    \n",
    "df['tweet_text']=df['tweet_text'].apply(clean_review)"
   ]
  },
  {
   "cell_type": "code",
   "execution_count": 30,
   "id": "1855718e",
   "metadata": {},
   "outputs": [
    {
     "data": {
      "text/html": [
       "<div>\n",
       "<style scoped>\n",
       "    .dataframe tbody tr th:only-of-type {\n",
       "        vertical-align: middle;\n",
       "    }\n",
       "\n",
       "    .dataframe tbody tr th {\n",
       "        vertical-align: top;\n",
       "    }\n",
       "\n",
       "    .dataframe thead th {\n",
       "        text-align: right;\n",
       "    }\n",
       "</style>\n",
       "<table border=\"1\" class=\"dataframe\">\n",
       "  <thead>\n",
       "    <tr style=\"text-align: right;\">\n",
       "      <th></th>\n",
       "      <th>date_time</th>\n",
       "      <th>username</th>\n",
       "      <th>user_location</th>\n",
       "      <th>user_description</th>\n",
       "      <th>verified</th>\n",
       "      <th>followers_count</th>\n",
       "      <th>following_count</th>\n",
       "      <th>tweet_like_count</th>\n",
       "      <th>tweet_retweet_count</th>\n",
       "      <th>tweet_reply_count</th>\n",
       "      <th>source</th>\n",
       "      <th>tweet_text</th>\n",
       "    </tr>\n",
       "  </thead>\n",
       "  <tbody>\n",
       "    <tr>\n",
       "      <th>1</th>\n",
       "      <td>2022-09-08 22:49:27+00:00</td>\n",
       "      <td>TheJessicats</td>\n",
       "      <td>1999</td>\n",
       "      <td>Tweet like nobody’s reading • standup comedian...</td>\n",
       "      <td>False</td>\n",
       "      <td>1642</td>\n",
       "      <td>1444</td>\n",
       "      <td>0</td>\n",
       "      <td>0</td>\n",
       "      <td>0</td>\n",
       "      <td>&lt;a href=\"http://twitter.com/download/iphone\" r...</td>\n",
       "      <td>@Travon I hope happens iPhone 14 arrives.</td>\n",
       "    </tr>\n",
       "    <tr>\n",
       "      <th>2</th>\n",
       "      <td>2022-09-08 22:49:16+00:00</td>\n",
       "      <td>itschefnotjeff</td>\n",
       "      <td>📌 mom's basement</td>\n",
       "      <td>👨🏽‍💻💳🎫✈️</td>\n",
       "      <td>False</td>\n",
       "      <td>77</td>\n",
       "      <td>87</td>\n",
       "      <td>0</td>\n",
       "      <td>0</td>\n",
       "      <td>0</td>\n",
       "      <td>&lt;a href=\"http://twitter.com/download/android\" ...</td>\n",
       "      <td>Nah iphone 14 upgrade it, change mind.</td>\n",
       "    </tr>\n",
       "    <tr>\n",
       "      <th>3</th>\n",
       "      <td>2022-09-08 22:49:09+00:00</td>\n",
       "      <td>HalfRonin</td>\n",
       "      <td>Between the darkness and light</td>\n",
       "      <td>Preferring to be the dumbest person in the roo...</td>\n",
       "      <td>False</td>\n",
       "      <td>549</td>\n",
       "      <td>717</td>\n",
       "      <td>0</td>\n",
       "      <td>0</td>\n",
       "      <td>0</td>\n",
       "      <td>&lt;a href=\"http://twitter.com/download/iphone\" r...</td>\n",
       "      <td>To shock absolutely one: Apple: Ready iPhone 1...</td>\n",
       "    </tr>\n",
       "    <tr>\n",
       "      <th>4</th>\n",
       "      <td>2022-09-08 22:49:09+00:00</td>\n",
       "      <td>Deejayrayman</td>\n",
       "      <td>Texas</td>\n",
       "      <td>Father of 3. Follower of Christ. Lover of all ...</td>\n",
       "      <td>False</td>\n",
       "      <td>48</td>\n",
       "      <td>153</td>\n",
       "      <td>0</td>\n",
       "      <td>0</td>\n",
       "      <td>0</td>\n",
       "      <td>&lt;a href=\"http://twitter.com/download/iphone\" r...</td>\n",
       "      <td>@TMobile @TMobileHelp able order iPhone 14 Pro...</td>\n",
       "    </tr>\n",
       "    <tr>\n",
       "      <th>5</th>\n",
       "      <td>2022-09-08 22:48:54+00:00</td>\n",
       "      <td>TheGalox_</td>\n",
       "      <td>Hello!</td>\n",
       "      <td>The latest Tech, Aviation, Gaming and Car news...</td>\n",
       "      <td>False</td>\n",
       "      <td>30309</td>\n",
       "      <td>193</td>\n",
       "      <td>0</td>\n",
       "      <td>0</td>\n",
       "      <td>0</td>\n",
       "      <td>&lt;a href=\"http://twitter.com/download/android\" ...</td>\n",
       "      <td>China's four major carriers support US version...</td>\n",
       "    </tr>\n",
       "  </tbody>\n",
       "</table>\n",
       "</div>"
      ],
      "text/plain": [
       "                   date_time        username                   user_location  \\\n",
       "1  2022-09-08 22:49:27+00:00    TheJessicats                            1999   \n",
       "2  2022-09-08 22:49:16+00:00  itschefnotjeff               📌 mom's basement    \n",
       "3  2022-09-08 22:49:09+00:00       HalfRonin  Between the darkness and light   \n",
       "4  2022-09-08 22:49:09+00:00    Deejayrayman                           Texas   \n",
       "5  2022-09-08 22:48:54+00:00       TheGalox_                          Hello!   \n",
       "\n",
       "                                    user_description  verified  \\\n",
       "1  Tweet like nobody’s reading • standup comedian...     False   \n",
       "2                                           👨🏽‍💻💳🎫✈️     False   \n",
       "3  Preferring to be the dumbest person in the roo...     False   \n",
       "4  Father of 3. Follower of Christ. Lover of all ...     False   \n",
       "5  The latest Tech, Aviation, Gaming and Car news...     False   \n",
       "\n",
       "   followers_count  following_count  tweet_like_count  tweet_retweet_count  \\\n",
       "1             1642             1444                 0                    0   \n",
       "2               77               87                 0                    0   \n",
       "3              549              717                 0                    0   \n",
       "4               48              153                 0                    0   \n",
       "5            30309              193                 0                    0   \n",
       "\n",
       "   tweet_reply_count                                             source  \\\n",
       "1                  0  <a href=\"http://twitter.com/download/iphone\" r...   \n",
       "2                  0  <a href=\"http://twitter.com/download/android\" ...   \n",
       "3                  0  <a href=\"http://twitter.com/download/iphone\" r...   \n",
       "4                  0  <a href=\"http://twitter.com/download/iphone\" r...   \n",
       "5                  0  <a href=\"http://twitter.com/download/android\" ...   \n",
       "\n",
       "                                          tweet_text  \n",
       "1          @Travon I hope happens iPhone 14 arrives.  \n",
       "2             Nah iphone 14 upgrade it, change mind.  \n",
       "3  To shock absolutely one: Apple: Ready iPhone 1...  \n",
       "4  @TMobile @TMobileHelp able order iPhone 14 Pro...  \n",
       "5  China's four major carriers support US version...  "
      ]
     },
     "execution_count": 30,
     "metadata": {},
     "output_type": "execute_result"
    }
   ],
   "source": [
    "df.head()"
   ]
  },
  {
   "cell_type": "code",
   "execution_count": 31,
   "id": "144abbfb",
   "metadata": {},
   "outputs": [],
   "source": [
    "#HELPFUL INFORMATION ON THE NUMBER OF LIKES A TWEET GETS"
   ]
  },
  {
   "cell_type": "code",
   "execution_count": 32,
   "id": "cd8320f8",
   "metadata": {},
   "outputs": [
    {
     "data": {
      "text/plain": [
       "0    77758\n",
       "1    14601\n",
       "Name: tweet_like_count, dtype: int64"
      ]
     },
     "execution_count": 32,
     "metadata": {},
     "output_type": "execute_result"
    }
   ],
   "source": [
    "df['tweet_like_count'].value_counts()"
   ]
  },
  {
   "cell_type": "code",
   "execution_count": 33,
   "id": "1ee36656",
   "metadata": {},
   "outputs": [
    {
     "data": {
      "text/plain": [
       "0       77951\n",
       "1        6346\n",
       "2        2128\n",
       "3        1123\n",
       "4         686\n",
       "        ...  \n",
       "3332        1\n",
       "575         1\n",
       "111         1\n",
       "2455        1\n",
       "581         1\n",
       "Name: tweet_retweet_count, Length: 390, dtype: int64"
      ]
     },
     "execution_count": 33,
     "metadata": {},
     "output_type": "execute_result"
    }
   ],
   "source": [
    "df['tweet_retweet_count'].value_counts()"
   ]
  },
  {
   "cell_type": "code",
   "execution_count": 34,
   "id": "66bf0fea",
   "metadata": {},
   "outputs": [
    {
     "data": {
      "text/plain": [
       "iPhone 14                                                                                                                                                                           77\n",
       "@thesmiyo iPhone 14                                                                                                                                                                 27\n",
       "$1400 iPhone 14? shit better play dead Bitch touch                                                                                                                                  22\n",
       "iPhone 14 cost $1,500 better autocorrect lies truth                                                                                                                                 21\n",
       "Iphone 14                                                                                                                                                                           18\n",
       "                                                                                                                                                                                    ..\n",
       "It hit I started watching Apple events back 2016 launch iPhone 7. That back 6S still new. I'm seriously considering 14 pro max next year. It depends Google announces next month     1\n",
       "Why I looking iPhone 14? 😂😂😂                                                                                                                                                         1\n",
       "iPhone 14 I wait next year sha… I buy iPhone 15 #AppleEvent                                                                                                                          1\n",
       "@ryfeb13 iphone 14 calling ur name                                                                                                                                                   1\n",
       "don’t understand people buy every new iphone don’t exact ios software.. like difference iphone 13 14                                                                                 1\n",
       "Name: tweet_text, Length: 91116, dtype: int64"
      ]
     },
     "execution_count": 34,
     "metadata": {},
     "output_type": "execute_result"
    }
   ],
   "source": [
    "df['tweet_text'].value_counts()"
   ]
  },
  {
   "cell_type": "markdown",
   "id": "c89c8640",
   "metadata": {},
   "source": [
    "tweets that are liked by customers show a positve correlation or meaningful message?"
   ]
  },
  {
   "cell_type": "code",
   "execution_count": 37,
   "id": "3b62c49e",
   "metadata": {},
   "outputs": [],
   "source": [
    "consolidated=' '.join(word for word in df['tweet_text'][df['tweet_like_count']==0].astype(str))\n",
    "wordCloud=WordCloud(width=1600,height=800,random_state=21,max_font_size=110)\n",
    "plt.figure(figsize=(15,10))\n",
    "plt.imshow(wordCloud.generate(consolidated),interpolation='bilinear')\n",
    "plt.axis('off')\n",
    "plt.show()"
   ]
  },
  {
   "cell_type": "code",
   "execution_count": 38,
   "id": "8d6482fd",
   "metadata": {},
   "outputs": [],
   "source": [
    "consolidated=' '.join(word for word in df['tweet_text'][df['tweet_like_count']==1].astype(str))\n",
    "wordCloud=WordCloud(width=1600,height=800,random_state=21,max_font_size=110)\n",
    "plt.figure(figsize=(15,10))\n",
    "plt.imshow(wordCloud.generate(consolidated),interpolation='bilinear')\n",
    "plt.axis('off')\n",
    "plt.show()"
   ]
  },
  {
   "cell_type": "code",
   "execution_count": null,
   "id": "d400ee8c",
   "metadata": {},
   "outputs": [],
   "source": [
    "why no image???"
   ]
  },
  {
   "cell_type": "markdown",
   "id": "e3a25399",
   "metadata": {},
   "source": [
    "TF-IDF calculates that how relevant a word in a series or corpus is to a text. The meaning increases proportionally to the number of times in the text a word appears but is compensated by the word frequency in the corpus (data-set). We will be implementing this with the code below."
   ]
  },
  {
   "cell_type": "code",
   "execution_count": null,
   "id": "ca291ae7",
   "metadata": {},
   "outputs": [],
   "source": [
    "df['tweet_text'] = df['tweet_text'].astype(str)"
   ]
  },
  {
   "cell_type": "code",
   "execution_count": null,
   "id": "62249897",
   "metadata": {},
   "outputs": [],
   "source": [
    "cv = TfidfVectorizer(max_features=2500)\n",
    "X = cv.fit_transform(df['tweet_text'] ).toarray()"
   ]
  },
  {
   "cell_type": "code",
   "execution_count": null,
   "id": "fb1f7d48",
   "metadata": {},
   "outputs": [],
   "source": [
    "from sklearn.model_selection import train_test_split\n",
    "x_train ,x_test,y_train,y_test=train_test_split(X,df['tweet_like_count'],\n",
    "                                                test_size=0.25 ,\n",
    "                                                random_state=42)"
   ]
  },
  {
   "cell_type": "code",
   "execution_count": null,
   "id": "5537efcc",
   "metadata": {},
   "outputs": [],
   "source": [
    "from sklearn.linear_model import LogisticRegression\n",
    "from sklearn.metrics import accuracy_score\n",
    "model=LogisticRegression()\n",
    " \n",
    "#Model fitting\n",
    "model.fit(x_train,y_train)\n",
    " \n",
    "#testing the model\n",
    "pred=model.predict(x_test)\n",
    " \n",
    "#model accuracy\n",
    "print(accuracy_score(y_test,pred))"
   ]
  },
  {
   "cell_type": "code",
   "execution_count": null,
   "id": "a8a1b0b7",
   "metadata": {},
   "outputs": [],
   "source": [
    "from sklearn import metrics\n",
    "from sklearn.metrics import confusion_matrix\n",
    "cm = confusion_matrix(y_test,pred)\n",
    " \n",
    "cm_display = metrics.ConfusionMatrixDisplay(confusion_matrix = cm,\n",
    "                                            display_labels = [False, True])\n",
    " \n",
    "cm_display.plot()\n",
    "plt.show()"
   ]
  },
  {
   "cell_type": "code",
   "execution_count": null,
   "id": "35020399",
   "metadata": {},
   "outputs": [],
   "source": [
    "why no image???"
   ]
  },
  {
   "cell_type": "code",
   "execution_count": null,
   "id": "05cf69a2",
   "metadata": {},
   "outputs": [],
   "source": []
  },
  {
   "cell_type": "markdown",
   "id": "83f1aa9c",
   "metadata": {},
   "source": [
    "POSITIVE AND NEGATIVE WORDS"
   ]
  },
  {
   "cell_type": "code",
   "execution_count": 64,
   "id": "de136862",
   "metadata": {},
   "outputs": [
    {
     "ename": "SyntaxError",
     "evalue": "invalid syntax (1485801675.py, line 3)",
     "output_type": "error",
     "traceback": [
      "\u001b[0;36m  Input \u001b[0;32mIn [64]\u001b[0;36m\u001b[0m\n\u001b[0;31m    for line in f\u001b[0m\n\u001b[0m                  ^\u001b[0m\n\u001b[0;31mSyntaxError\u001b[0m\u001b[0;31m:\u001b[0m invalid syntax\n"
     ]
    }
   ],
   "source": [
    "positive_words = []\n",
    "with open('positive_words.txt', 'r') as f:\n",
    "    for line in f \n",
    "    positive_words.append(line.strip)\n",
    "    \n",
    "def extract_positve_words(tweet_text)\n",
    "\n"
   ]
  },
  {
   "cell_type": "code",
   "execution_count": 58,
   "id": "0faac36c",
   "metadata": {},
   "outputs": [
    {
     "data": {
      "text/plain": [
       "this is the first tweet     1\n",
       "this is the second tweet    1\n",
       "this is the third tweet     1\n",
       "Name: tweet_text, dtype: int64"
      ]
     },
     "execution_count": 58,
     "metadata": {},
     "output_type": "execute_result"
    }
   ],
   "source": [
    "df[\"tweet_text\"].value_counts()"
   ]
  },
  {
   "cell_type": "code",
   "execution_count": null,
   "id": "77c54bb0",
   "metadata": {},
   "outputs": [],
   "source": []
  }
 ],
 "metadata": {
  "kernelspec": {
   "display_name": "Python 3 (ipykernel)",
   "language": "python",
   "name": "python3"
  },
  "language_info": {
   "codemirror_mode": {
    "name": "ipython",
    "version": 3
   },
   "file_extension": ".py",
   "mimetype": "text/x-python",
   "name": "python",
   "nbconvert_exporter": "python",
   "pygments_lexer": "ipython3",
   "version": "3.9.12"
  }
 },
 "nbformat": 4,
 "nbformat_minor": 5
}
